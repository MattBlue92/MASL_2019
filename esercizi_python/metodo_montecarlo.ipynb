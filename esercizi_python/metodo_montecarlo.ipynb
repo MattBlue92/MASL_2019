{
 "cells": [
  {
   "cell_type": "code",
   "execution_count": 1,
   "outputs": [
    {
     "name": "stdout",
     "text": [
      "                            OLS Regression Results                            \n==============================================================================\nDep. Variable:                      y   R-squared:                       0.029\nModel:                            OLS   Adj. R-squared:                  0.025\nMethod:                 Least Squares   F-statistic:                     7.310\nDate:                Sun, 06 Oct 2019   Prob (F-statistic):           0.000743\nTime:                        21:14:09   Log-Likelihood:                -1058.5\nNo. Observations:                 500   AIC:                             2123.\nDf Residuals:                     497   BIC:                             2136.\nDf Model:                           2                                         \nCovariance Type:            nonrobust                                         \n==============================================================================\n                 coef    std err          t      P>|t|      [0.025      0.975]\n------------------------------------------------------------------------------\nconst          2.2130      0.090     24.532      0.000       2.036       2.390\nx1            -0.1539      0.046     -3.337      0.001      -0.244      -0.063\nx2             0.0745      0.046      1.609      0.108      -0.016       0.165\n==============================================================================\nOmnibus:                        0.105   Durbin-Watson:                   2.032\nProb(Omnibus):                  0.949   Jarque-Bera (JB):                0.155\nSkew:                          -0.033   Prob(JB):                        0.925\nKurtosis:                       2.945   Cond. No.                         2.03\n==============================================================================\n\nWarnings:\n[1] Standard Errors assume that the covariance matrix of the errors is correctly specified.\n"
     ],
     "output_type": "stream"
    }
   ],
   "source": [
    "import numpy as np\n",
    "from numpy import random\n",
    "import statsmodels.api as sm\n",
    "import seaborn as sns\n",
    "sns.set(color_codes=True)\n",
    "random.seed(42)\n",
    "\n",
    "n = 500\n",
    "sigma = 2\n",
    "beta = np.array([2, -0.1, 0])\n",
    "X1 = random.normal(loc=0, scale=sigma, size=n)\n",
    "X2 = random.normal(loc=0, scale=sigma, size=n)\n",
    "eps = random.normal(loc=0, scale=sigma, size=n)\n",
    "X = np.array([np.ones(n),X1, X2]).T\n",
    "Y = np.dot(X, beta)+eps \n",
    "mod0 = sm.OLS(Y, X).fit()\n",
    "print(mod0.summary())"
   ],
   "metadata": {
    "collapsed": false,
    "pycharm": {
     "name": "#%%\n",
     "is_executing": false
    }
   }
  },
  {
   "cell_type": "code",
   "execution_count": 2,
   "outputs": [],
   "source": [
    "nsim = 5000\n",
    "b1_pvalue = []\n",
    "b2_pvalue = []\n",
    "\n",
    "for i in np.arange(0,nsim,1):\n",
    "    random.seed(42+i)\n",
    "    X1 = random.normal(loc=0, scale=sigma, size=n)\n",
    "    X2 = random.normal(loc=0, scale=sigma, size=n)\n",
    "    eps = random.normal(loc=0, scale=sigma, size=n)\n",
    "    X = np.array([np.ones(n),X1, X2]).T\n",
    "    Y = np.dot(X, beta)+eps \n",
    "    mod0 = sm.OLS(Y, X).fit()\n",
    "    b1_pvalue.append(mod0.pvalues[1])\n",
    "    b2_pvalue.append(mod0.pvalues[2])"
   ],
   "metadata": {
    "collapsed": false,
    "pycharm": {
     "name": "#%%\n",
     "is_executing": false
    }
   }
  },
  {
   "cell_type": "code",
   "execution_count": 3,
   "outputs": [],
   "source": [
    "b1_pvalue = np.array(b1_pvalue)\n",
    "b2_pvalue = np.array(b2_pvalue)"
   ],
   "metadata": {
    "collapsed": false,
    "pycharm": {
     "name": "#%%\n",
     "is_executing": false
    }
   }
  },
  {
   "cell_type": "code",
   "execution_count": 4,
   "outputs": [
    {
     "data": {
      "text/plain": "<Figure size 432x288 with 1 Axes>",
      "image/png": "[encoded data removed]"
     },
     "metadata": {
      "needs_background": "light"
     },
     "output_type": "display_data"
    }
   ],
   "source": [
    "plot_1 = sns.distplot(b1_pvalue, kde=False)"
   ],
   "metadata": {
    "collapsed": false,
    "pycharm": {
     "name": "#%%\n",
     "is_executing": false
    }
   }
  },
  {
   "cell_type": "code",
   "execution_count": 5,
   "outputs": [
    {
     "data": {
      "text/plain": "<Figure size 432x288 with 1 Axes>",
      "image/png": "[encoded data removed]"
     },
     "metadata": {
      "needs_background": "light"
     },
     "output_type": "display_data"
    }
   ],
   "source": [
    "plot_2 =sns.distplot(b2_pvalue, kde=False)"
   ],
   "metadata": {
    "collapsed": false,
    "pycharm": {
     "name": "#%%\n",
     "is_executing": false
    }
   }
  }
 ],
 "metadata": {
  "kernelspec": {
   "display_name": "Python 3",
   "language": "python",
   "name": "python3"
  },
  "language_info": {
   "codemirror_mode": {
    "name": "ipython",
    "version": 2
   },
   "file_extension": ".py",
   "mimetype": "text/x-python",
   "name": "python",
   "nbconvert_exporter": "python",
   "pygments_lexer": "ipython2",
   "version": "2.7.6"
  },
  "pycharm": {
   "stem_cell": {
    "cell_type": "raw",
    "source": [],
    "metadata": {
     "collapsed": false
    }
   }
  }
 },
 "nbformat": 4,
 "nbformat_minor": 0
}