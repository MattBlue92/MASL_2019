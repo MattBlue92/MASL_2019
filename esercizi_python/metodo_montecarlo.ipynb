{
 "cells": [
  {
   "cell_type": "code",
   "execution_count": null,
   "outputs": [],
   "source": [
    "import numpy as np\n",
    "from numpy import random\n",
    "import statsmodels.api as sm\n",
    "import seaborn as sns\n",
    "sns.set(color_codes=True)\n",
    "random.seed(42)\n",
    "\n",
    "n = 500\n",
    "sigma = 2\n",
    "beta = np.array([2, -0.1, 0])\n",
    "X1 = random.normal(loc=0, scale=sigma, size=n)\n",
    "X2 = random.normal(loc=0, scale=sigma, size=n)\n",
    "eps = random.normal(loc=0, scale=sigma, size=n)\n",
    "X = np.array([np.ones(n),X1, X2]).T\n",
    "Y = np.dot(X, beta)+eps \n",
    "mod0 = sm.OLS(Y, X).fit()\n",
    "print(mod0.summary())"
   ],
   "metadata": {
    "collapsed": false,
    "pycharm": {
     "name": "#%%\n",
     "is_executing": true
    }
   }
  },
  {
   "cell_type": "code",
   "execution_count": null,
   "outputs": [],
   "source": [
    "nsim = 5000\n",
    "b1_pvalue = []\n",
    "b2_pvalue = []\n",
    "\n",
    "for i in np.arange(0,nsim,1):\n",
    "    random.seed(42+i)\n",
    "    X1 = random.normal(loc=0, scale=sigma, size=n)\n",
    "    X2 = random.normal(loc=0, scale=sigma, size=n)\n",
    "    eps = random.normal(loc=0, scale=sigma, size=n)\n",
    "    X = np.array([np.ones(n),X1, X2]).T\n",
    "    Y = np.dot(X, beta)+eps \n",
    "    mod0 = sm.OLS(Y, X).fit()\n",
    "    b1_pvalue.append(mod0.pvalues[1])\n",
    "    b2_pvalue.append(mod0.pvalues[2])"
   ],
   "metadata": {
    "collapsed": false,
    "pycharm": {
     "name": "#%%\n",
     "is_executing": true
    }
   }
  },
  {
   "cell_type": "code",
   "execution_count": null,
   "outputs": [],
   "source": [
    "b1_pvalue = np.array(b1_pvalue)\n",
    "b2_pvalue = np.array(b2_pvalue)"
   ],
   "metadata": {
    "collapsed": false,
    "pycharm": {
     "name": "#%%\n",
     "is_executing": true
    }
   }
  },
  {
   "cell_type": "code",
   "execution_count": null,
   "outputs": [],
   "source": [
    "plot_1 = sns.distplot(b1_pvalue, kde=False)"
   ],
   "metadata": {
    "collapsed": false,
    "pycharm": {
     "name": "#%%\n",
     "is_executing": true
    }
   }
  },
  {
   "cell_type": "code",
   "execution_count": null,
   "outputs": [],
   "source": [
    "plot_2 =sns.distplot(b2_pvalue, kde=False)"
   ],
   "metadata": {
    "collapsed": false,
    "pycharm": {
     "name": "#%%\n",
     "is_executing": true
    }
   }
  }
 ],
 "metadata": {
  "kernelspec": {
   "display_name": "Python 3",
   "language": "python",
   "name": "python3"
  },
  "language_info": {
   "codemirror_mode": {
    "name": "ipython",
    "version": 2
   },
   "file_extension": ".py",
   "mimetype": "text/x-python",
   "name": "python",
   "nbconvert_exporter": "python",
   "pygments_lexer": "ipython2",
   "version": "2.7.6"
  },
  "pycharm": {
   "stem_cell": {
    "cell_type": "raw",
    "source": [],
    "metadata": {
     "collapsed": false
    }
   }
  }
 },
 "nbformat": 4,
 "nbformat_minor": 0
}