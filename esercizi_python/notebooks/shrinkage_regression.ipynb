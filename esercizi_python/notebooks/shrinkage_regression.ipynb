{
 "cells": [
  {
   "cell_type": "code",
   "execution_count": 25,
   "metadata": {
    "collapsed": true,
    "pycharm": {
     "is_executing": false
    }
   },
   "outputs": [],
   "source": [
    "import pandas as pd\n",
    "import numpy as np\n",
    "from sklearn import linear_model\n",
    "import seaborn as sns"
   ]
  },
  {
   "cell_type": "code",
   "execution_count": 26,
   "outputs": [],
   "source": [
    "df = pd.read_csv(\"/home/matthew/Scrivania/uni/local_repository/MASL_2019/esercizi_python/data/regression_data_train.csv\")"
   ],
   "metadata": {
    "collapsed": false,
    "pycharm": {
     "name": "#%%\n",
     "is_executing": false
    }
   }
  },
  {
   "cell_type": "code",
   "execution_count": 27,
   "outputs": [
    {
     "data": {
      "text/plain": "    Id  MSSubClass MSZoning  LotFrontage  LotArea Street Alley LotShape  \\\n0    1          60       RL         65.0     8450   Pave   NaN      Reg   \n1    2          20       RL         80.0     9600   Pave   NaN      Reg   \n2    3          60       RL         68.0    11250   Pave   NaN      IR1   \n3    4          70       RL         60.0     9550   Pave   NaN      IR1   \n4    5          60       RL         84.0    14260   Pave   NaN      IR1   \n5    6          50       RL         85.0    14115   Pave   NaN      IR1   \n6    7          20       RL         75.0    10084   Pave   NaN      Reg   \n7    8          60       RL          NaN    10382   Pave   NaN      IR1   \n8    9          50       RM         51.0     6120   Pave   NaN      Reg   \n9   10         190       RL         50.0     7420   Pave   NaN      Reg   \n10  11          20       RL         70.0    11200   Pave   NaN      Reg   \n11  12          60       RL         85.0    11924   Pave   NaN      IR1   \n\n   LandContour Utilities  ... PoolArea PoolQC  Fence MiscFeature MiscVal  \\\n0          Lvl    AllPub  ...        0    NaN    NaN         NaN       0   \n1          Lvl    AllPub  ...        0    NaN    NaN         NaN       0   \n2          Lvl    AllPub  ...        0    NaN    NaN         NaN       0   \n3          Lvl    AllPub  ...        0    NaN    NaN         NaN       0   \n4          Lvl    AllPub  ...        0    NaN    NaN         NaN       0   \n5          Lvl    AllPub  ...        0    NaN  MnPrv        Shed     700   \n6          Lvl    AllPub  ...        0    NaN    NaN         NaN       0   \n7          Lvl    AllPub  ...        0    NaN    NaN        Shed     350   \n8          Lvl    AllPub  ...        0    NaN    NaN         NaN       0   \n9          Lvl    AllPub  ...        0    NaN    NaN         NaN       0   \n10         Lvl    AllPub  ...        0    NaN    NaN         NaN       0   \n11         Lvl    AllPub  ...        0    NaN    NaN         NaN       0   \n\n   MoSold YrSold  SaleType  SaleCondition  SalePrice  \n0       2   2008        WD         Normal     208500  \n1       5   2007        WD         Normal     181500  \n2       9   2008        WD         Normal     223500  \n3       2   2006        WD        Abnorml     140000  \n4      12   2008        WD         Normal     250000  \n5      10   2009        WD         Normal     143000  \n6       8   2007        WD         Normal     307000  \n7      11   2009        WD         Normal     200000  \n8       4   2008        WD        Abnorml     129900  \n9       1   2008        WD         Normal     118000  \n10      2   2008        WD         Normal     129500  \n11      7   2006       New        Partial     345000  \n\n[12 rows x 81 columns]",
      "text/html": "<div>\n<style scoped>\n    .dataframe tbody tr th:only-of-type {\n        vertical-align: middle;\n    }\n\n    .dataframe tbody tr th {\n        vertical-align: top;\n    }\n\n    .dataframe thead th {\n        text-align: right;\n    }\n</style>\n<table border=\"1\" class=\"dataframe\">\n  <thead>\n    <tr style=\"text-align: right;\">\n      <th></th>\n      <th>Id</th>\n      <th>MSSubClass</th>\n      <th>MSZoning</th>\n      <th>LotFrontage</th>\n      <th>LotArea</th>\n      <th>Street</th>\n      <th>Alley</th>\n      <th>LotShape</th>\n      <th>LandContour</th>\n      <th>Utilities</th>\n      <th>...</th>\n      <th>PoolArea</th>\n      <th>PoolQC</th>\n      <th>Fence</th>\n      <th>MiscFeature</th>\n      <th>MiscVal</th>\n      <th>MoSold</th>\n      <th>YrSold</th>\n      <th>SaleType</th>\n      <th>SaleCondition</th>\n      <th>SalePrice</th>\n    </tr>\n  </thead>\n  <tbody>\n    <tr>\n      <td>0</td>\n      <td>1</td>\n      <td>60</td>\n      <td>RL</td>\n      <td>65.0</td>\n      <td>8450</td>\n      <td>Pave</td>\n      <td>NaN</td>\n      <td>Reg</td>\n      <td>Lvl</td>\n      <td>AllPub</td>\n      <td>...</td>\n      <td>0</td>\n      <td>NaN</td>\n      <td>NaN</td>\n      <td>NaN</td>\n      <td>0</td>\n      <td>2</td>\n      <td>2008</td>\n      <td>WD</td>\n      <td>Normal</td>\n      <td>208500</td>\n    </tr>\n    <tr>\n      <td>1</td>\n      <td>2</td>\n      <td>20</td>\n      <td>RL</td>\n      <td>80.0</td>\n      <td>9600</td>\n      <td>Pave</td>\n      <td>NaN</td>\n      <td>Reg</td>\n      <td>Lvl</td>\n      <td>AllPub</td>\n      <td>...</td>\n      <td>0</td>\n      <td>NaN</td>\n      <td>NaN</td>\n      <td>NaN</td>\n      <td>0</td>\n      <td>5</td>\n      <td>2007</td>\n      <td>WD</td>\n      <td>Normal</td>\n      <td>181500</td>\n    </tr>\n    <tr>\n      <td>2</td>\n      <td>3</td>\n      <td>60</td>\n      <td>RL</td>\n      <td>68.0</td>\n      <td>11250</td>\n      <td>Pave</td>\n      <td>NaN</td>\n      <td>IR1</td>\n      <td>Lvl</td>\n      <td>AllPub</td>\n      <td>...</td>\n      <td>0</td>\n      <td>NaN</td>\n      <td>NaN</td>\n      <td>NaN</td>\n      <td>0</td>\n      <td>9</td>\n      <td>2008</td>\n      <td>WD</td>\n      <td>Normal</td>\n      <td>223500</td>\n    </tr>\n    <tr>\n      <td>3</td>\n      <td>4</td>\n      <td>70</td>\n      <td>RL</td>\n      <td>60.0</td>\n      <td>9550</td>\n      <td>Pave</td>\n      <td>NaN</td>\n      <td>IR1</td>\n      <td>Lvl</td>\n      <td>AllPub</td>\n      <td>...</td>\n      <td>0</td>\n      <td>NaN</td>\n      <td>NaN</td>\n      <td>NaN</td>\n      <td>0</td>\n      <td>2</td>\n      <td>2006</td>\n      <td>WD</td>\n      <td>Abnorml</td>\n      <td>140000</td>\n    </tr>\n    <tr>\n      <td>4</td>\n      <td>5</td>\n      <td>60</td>\n      <td>RL</td>\n      <td>84.0</td>\n      <td>14260</td>\n      <td>Pave</td>\n      <td>NaN</td>\n      <td>IR1</td>\n      <td>Lvl</td>\n      <td>AllPub</td>\n      <td>...</td>\n      <td>0</td>\n      <td>NaN</td>\n      <td>NaN</td>\n      <td>NaN</td>\n      <td>0</td>\n      <td>12</td>\n      <td>2008</td>\n      <td>WD</td>\n      <td>Normal</td>\n      <td>250000</td>\n    </tr>\n    <tr>\n      <td>5</td>\n      <td>6</td>\n      <td>50</td>\n      <td>RL</td>\n      <td>85.0</td>\n      <td>14115</td>\n      <td>Pave</td>\n      <td>NaN</td>\n      <td>IR1</td>\n      <td>Lvl</td>\n      <td>AllPub</td>\n      <td>...</td>\n      <td>0</td>\n      <td>NaN</td>\n      <td>MnPrv</td>\n      <td>Shed</td>\n      <td>700</td>\n      <td>10</td>\n      <td>2009</td>\n      <td>WD</td>\n      <td>Normal</td>\n      <td>143000</td>\n    </tr>\n    <tr>\n      <td>6</td>\n      <td>7</td>\n      <td>20</td>\n      <td>RL</td>\n      <td>75.0</td>\n      <td>10084</td>\n      <td>Pave</td>\n      <td>NaN</td>\n      <td>Reg</td>\n      <td>Lvl</td>\n      <td>AllPub</td>\n      <td>...</td>\n      <td>0</td>\n      <td>NaN</td>\n      <td>NaN</td>\n      <td>NaN</td>\n      <td>0</td>\n      <td>8</td>\n      <td>2007</td>\n      <td>WD</td>\n      <td>Normal</td>\n      <td>307000</td>\n    </tr>\n    <tr>\n      <td>7</td>\n      <td>8</td>\n      <td>60</td>\n      <td>RL</td>\n      <td>NaN</td>\n      <td>10382</td>\n      <td>Pave</td>\n      <td>NaN</td>\n      <td>IR1</td>\n      <td>Lvl</td>\n      <td>AllPub</td>\n      <td>...</td>\n      <td>0</td>\n      <td>NaN</td>\n      <td>NaN</td>\n      <td>Shed</td>\n      <td>350</td>\n      <td>11</td>\n      <td>2009</td>\n      <td>WD</td>\n      <td>Normal</td>\n      <td>200000</td>\n    </tr>\n    <tr>\n      <td>8</td>\n      <td>9</td>\n      <td>50</td>\n      <td>RM</td>\n      <td>51.0</td>\n      <td>6120</td>\n      <td>Pave</td>\n      <td>NaN</td>\n      <td>Reg</td>\n      <td>Lvl</td>\n      <td>AllPub</td>\n      <td>...</td>\n      <td>0</td>\n      <td>NaN</td>\n      <td>NaN</td>\n      <td>NaN</td>\n      <td>0</td>\n      <td>4</td>\n      <td>2008</td>\n      <td>WD</td>\n      <td>Abnorml</td>\n      <td>129900</td>\n    </tr>\n    <tr>\n      <td>9</td>\n      <td>10</td>\n      <td>190</td>\n      <td>RL</td>\n      <td>50.0</td>\n      <td>7420</td>\n      <td>Pave</td>\n      <td>NaN</td>\n      <td>Reg</td>\n      <td>Lvl</td>\n      <td>AllPub</td>\n      <td>...</td>\n      <td>0</td>\n      <td>NaN</td>\n      <td>NaN</td>\n      <td>NaN</td>\n      <td>0</td>\n      <td>1</td>\n      <td>2008</td>\n      <td>WD</td>\n      <td>Normal</td>\n      <td>118000</td>\n    </tr>\n    <tr>\n      <td>10</td>\n      <td>11</td>\n      <td>20</td>\n      <td>RL</td>\n      <td>70.0</td>\n      <td>11200</td>\n      <td>Pave</td>\n      <td>NaN</td>\n      <td>Reg</td>\n      <td>Lvl</td>\n      <td>AllPub</td>\n      <td>...</td>\n      <td>0</td>\n      <td>NaN</td>\n      <td>NaN</td>\n      <td>NaN</td>\n      <td>0</td>\n      <td>2</td>\n      <td>2008</td>\n      <td>WD</td>\n      <td>Normal</td>\n      <td>129500</td>\n    </tr>\n    <tr>\n      <td>11</td>\n      <td>12</td>\n      <td>60</td>\n      <td>RL</td>\n      <td>85.0</td>\n      <td>11924</td>\n      <td>Pave</td>\n      <td>NaN</td>\n      <td>IR1</td>\n      <td>Lvl</td>\n      <td>AllPub</td>\n      <td>...</td>\n      <td>0</td>\n      <td>NaN</td>\n      <td>NaN</td>\n      <td>NaN</td>\n      <td>0</td>\n      <td>7</td>\n      <td>2006</td>\n      <td>New</td>\n      <td>Partial</td>\n      <td>345000</td>\n    </tr>\n  </tbody>\n</table>\n<p>12 rows × 81 columns</p>\n</div>"
     },
     "metadata": {},
     "output_type": "execute_result",
     "execution_count": 27
    }
   ],
   "source": [
    "df.head(12)"
   ],
   "metadata": {
    "collapsed": false,
    "pycharm": {
     "name": "#%%\n",
     "is_executing": false
    }
   }
  },
  {
   "cell_type": "code",
   "execution_count": 28,
   "outputs": [
    {
     "name": "stdout",
     "text": [
      "Le dimensioni del dataset sono (1460, 81)\n<class 'pandas.core.frame.DataFrame'>\nRangeIndex: 1460 entries, 0 to 1459\nData columns (total 81 columns):\nId               1460 non-null int64\nMSSubClass       1460 non-null int64\nMSZoning         1460 non-null object\nLotFrontage      1201 non-null float64\nLotArea          1460 non-null int64\nStreet           1460 non-null object\nAlley            91 non-null object\nLotShape         1460 non-null object\nLandContour      1460 non-null object\nUtilities        1460 non-null object\nLotConfig        1460 non-null object\nLandSlope        1460 non-null object\nNeighborhood     1460 non-null object\nCondition1       1460 non-null object\nCondition2       1460 non-null object\nBldgType         1460 non-null object\nHouseStyle       1460 non-null object\nOverallQual      1460 non-null int64\nOverallCond      1460 non-null int64\nYearBuilt        1460 non-null int64\nYearRemodAdd     1460 non-null int64\nRoofStyle        1460 non-null object\nRoofMatl         1460 non-null object\nExterior1st      1460 non-null object\nExterior2nd      1460 non-null object\nMasVnrType       1452 non-null object\nMasVnrArea       1452 non-null float64\nExterQual        1460 non-null object\nExterCond        1460 non-null object\nFoundation       1460 non-null object\nBsmtQual         1423 non-null object\nBsmtCond         1423 non-null object\nBsmtExposure     1422 non-null object\nBsmtFinType1     1423 non-null object\nBsmtFinSF1       1460 non-null int64\nBsmtFinType2     1422 non-null object\nBsmtFinSF2       1460 non-null int64\nBsmtUnfSF        1460 non-null int64\nTotalBsmtSF      1460 non-null int64\nHeating          1460 non-null object\nHeatingQC        1460 non-null object\nCentralAir       1460 non-null object\nElectrical       1459 non-null object\n1stFlrSF         1460 non-null int64\n2ndFlrSF         1460 non-null int64\nLowQualFinSF     1460 non-null int64\nGrLivArea        1460 non-null int64\nBsmtFullBath     1460 non-null int64\nBsmtHalfBath     1460 non-null int64\nFullBath         1460 non-null int64\nHalfBath         1460 non-null int64\nBedroomAbvGr     1460 non-null int64\nKitchenAbvGr     1460 non-null int64\nKitchenQual      1460 non-null object\nTotRmsAbvGrd     1460 non-null int64\nFunctional       1460 non-null object\nFireplaces       1460 non-null int64\nFireplaceQu      770 non-null object\nGarageType       1379 non-null object\nGarageYrBlt      1379 non-null float64\nGarageFinish     1379 non-null object\nGarageCars       1460 non-null int64\nGarageArea       1460 non-null int64\nGarageQual       1379 non-null object\nGarageCond       1379 non-null object\nPavedDrive       1460 non-null object\nWoodDeckSF       1460 non-null int64\nOpenPorchSF      1460 non-null int64\nEnclosedPorch    1460 non-null int64\n3SsnPorch        1460 non-null int64\nScreenPorch      1460 non-null int64\nPoolArea         1460 non-null int64\nPoolQC           7 non-null object\nFence            281 non-null object\nMiscFeature      54 non-null object\nMiscVal          1460 non-null int64\nMoSold           1460 non-null int64\nYrSold           1460 non-null int64\nSaleType         1460 non-null object\nSaleCondition    1460 non-null object\nSalePrice        1460 non-null int64\ndtypes: float64(3), int64(35), object(43)\nmemory usage: 3.9 MB\nLe informazioni dell'occupazione in memoria, sui missing values e il tipo di variabili sono  qui riportata \n None\nMissing values riportati per ogni variabile \n Id                 0\nMSSubClass         0\nMSZoning           0\nLotFrontage      259\nLotArea            0\n                ... \nMoSold             0\nYrSold             0\nSaleType           0\nSaleCondition      0\nSalePrice          0\nLength: 81, dtype: int64\nLe informazioni riassuntive dei dati di tipo quantitavo sono qui di seguito riportati \n                Id   MSSubClass  LotFrontage        LotArea  OverallQual  \\\ncount  1460.000000  1460.000000  1201.000000    1460.000000  1460.000000   \nmean    730.500000    56.897260    70.049958   10516.828082     6.099315   \nstd     421.610009    42.300571    24.284752    9981.264932     1.382997   \nmin       1.000000    20.000000    21.000000    1300.000000     1.000000   \n25%     365.750000    20.000000    59.000000    7553.500000     5.000000   \n50%     730.500000    50.000000    69.000000    9478.500000     6.000000   \n75%    1095.250000    70.000000    80.000000   11601.500000     7.000000   \nmax    1460.000000   190.000000   313.000000  215245.000000    10.000000   \n\n       OverallCond    YearBuilt  YearRemodAdd   MasVnrArea   BsmtFinSF1  ...  \\\ncount  1460.000000  1460.000000   1460.000000  1452.000000  1460.000000  ...   \nmean      5.575342  1971.267808   1984.865753   103.685262   443.639726  ...   \nstd       1.112799    30.202904     20.645407   181.066207   456.098091  ...   \nmin       1.000000  1872.000000   1950.000000     0.000000     0.000000  ...   \n25%       5.000000  1954.000000   1967.000000     0.000000     0.000000  ...   \n50%       5.000000  1973.000000   1994.000000     0.000000   383.500000  ...   \n75%       6.000000  2000.000000   2004.000000   166.000000   712.250000  ...   \nmax       9.000000  2010.000000   2010.000000  1600.000000  5644.000000  ...   \n\n        WoodDeckSF  OpenPorchSF  EnclosedPorch    3SsnPorch  ScreenPorch  \\\ncount  1460.000000  1460.000000    1460.000000  1460.000000  1460.000000   \nmean     94.244521    46.660274      21.954110     3.409589    15.060959   \nstd     125.338794    66.256028      61.119149    29.317331    55.757415   \nmin       0.000000     0.000000       0.000000     0.000000     0.000000   \n25%       0.000000     0.000000       0.000000     0.000000     0.000000   \n50%       0.000000    25.000000       0.000000     0.000000     0.000000   \n75%     168.000000    68.000000       0.000000     0.000000     0.000000   \nmax     857.000000   547.000000     552.000000   508.000000   480.000000   \n\n          PoolArea       MiscVal       MoSold       YrSold      SalePrice  \ncount  1460.000000   1460.000000  1460.000000  1460.000000    1460.000000  \nmean      2.758904     43.489041     6.321918  2007.815753  180921.195890  \nstd      40.177307    496.123024     2.703626     1.328095   79442.502883  \nmin       0.000000      0.000000     1.000000  2006.000000   34900.000000  \n25%       0.000000      0.000000     5.000000  2007.000000  129975.000000  \n50%       0.000000      0.000000     6.000000  2008.000000  163000.000000  \n75%       0.000000      0.000000     8.000000  2009.000000  214000.000000  \nmax     738.000000  15500.000000    12.000000  2010.000000  755000.000000  \n\n[8 rows x 38 columns]\n"
     ],
     "output_type": "stream"
    }
   ],
   "source": [
    "print(\"Le dimensioni del dataset sono {}\".format(df.shape))\n",
    "print(\"Le informazioni dell'occupazione in memoria,\"\n",
    "      \" sui missing values e il tipo di variabili sono  qui riportata \\n {}\".format(df.info(memory_usage='deep')))\n",
    "print(\"Missing values riportati per ogni variabile \\n {}\".format(df.isnull().sum()))\n",
    "print(\"Le informazioni riassuntive dei dati di tipo quantitavo sono qui di seguito riportati \\n{}\".format(df.describe()))\n",
    "\n"
   ],
   "metadata": {
    "collapsed": false,
    "pycharm": {
     "name": "#%%\n",
     "is_executing": false
    }
   }
  }
 ],
 "metadata": {
  "kernelspec": {
   "display_name": "Python 3",
   "language": "python",
   "name": "python3"
  },
  "language_info": {
   "codemirror_mode": {
    "name": "ipython",
    "version": 2
   },
   "file_extension": ".py",
   "mimetype": "text/x-python",
   "name": "python",
   "nbconvert_exporter": "python",
   "pygments_lexer": "ipython2",
   "version": "2.7.6"
  },
  "pycharm": {
   "stem_cell": {
    "cell_type": "raw",
    "source": [],
    "metadata": {
     "collapsed": false
    }
   }
  }
 },
 "nbformat": 4,
 "nbformat_minor": 0
}