{
 "cells": [
  {
   "cell_type": "code",
   "execution_count": 1,
   "metadata": {
    "collapsed": true,
    "pycharm": {
     "is_executing": false
    }
   },
   "outputs": [
    {
     "name": "stdout",
     "text": [
      "La media di Y è 2.16 e la standard daviation è 2.16\n"
     ],
     "output_type": "stream"
    }
   ],
   "source": [
    "import numpy as np\n",
    "import numpy.random as rnd\n",
    "import numpy.linalg as al\n",
    "rnd.seed(42)\n",
    "#esercizio 1\n",
    "a = 10\n",
    "b = 2\n",
    "c = (a+b)^2\n",
    "#esercizio 2\n",
    "n = 1000\n",
    "X0 = np.ones(n)\n",
    "X1 = rnd.normal(size = n)\n",
    "epsilon = rnd.normal(size = n)\n",
    "Y = 2*X0+2*X1+epsilon\n",
    "print(\"La media di Y è {1:.2f} e la standard daviation è {1:.2f}\".format(np.mean(Y),np.std(Y)))\n",
    "#esercizio 3\n",
    "X = np.array([X0,X1]).T\n",
    "beta_hat = np.dot(np.dot(al.inv(np.dot(X.T,X)),X.T),Y)\n",
    "y_hat = np.dot(X,beta_hat)\n",
    "epsilon_hat = Y-y_hat\n",
    "#esercizio 4\n",
    "\n"
   ]
  }
 ],
 "metadata": {
  "kernelspec": {
   "display_name": "Python 3",
   "language": "python",
   "name": "python3"
  },
  "language_info": {
   "codemirror_mode": {
    "name": "ipython",
    "version": 2
   },
   "file_extension": ".py",
   "mimetype": "text/x-python",
   "name": "python",
   "nbconvert_exporter": "python",
   "pygments_lexer": "ipython2",
   "version": "2.7.6"
  },
  "pycharm": {
   "stem_cell": {
    "cell_type": "raw",
    "source": [],
    "metadata": {
     "collapsed": false
    }
   }
  }
 },
 "nbformat": 4,
 "nbformat_minor": 0
}